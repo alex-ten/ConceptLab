{
 "cells": [
  {
   "cell_type": "markdown",
   "metadata": {},
   "source": [
    "## Maximum Likelihood Estimation\n",
    "\n",
    "We begin with a random process -- a sequence of events that may influence each other non-deterministically. In such a process, the initial state can predict subsequent state(s) only to some extent and never perfectly."
   ]
  },
  {
   "cell_type": "code",
   "execution_count": 1,
   "metadata": {},
   "outputs": [],
   "source": [
    "import numpy as np; np.random.seed(666)\n",
    "import matplotlib.pyplot as plt\n",
    "\n",
    "class RandomProcess():\n",
    "    def __init__(self, prob_func, **params):\n",
    "        self.prob_func = prob_func\n",
    "        self.params = params\n",
    "        \n",
    "    def sample(self):\n",
    "        return self.prob_func(**self.params, size=1)[0]\n",
    "\n",
    "        \n",
    "def make_observations(N, process):\n",
    "    return np.array([process.sample() for i in range(N)])"
   ]
  },
  {
   "cell_type": "markdown",
   "metadata": {},
   "source": [
    "## Collect data"
   ]
  },
  {
   "cell_type": "code",
   "execution_count": 2,
   "metadata": {},
   "outputs": [],
   "source": [
    "MU = 5   # population mean\n",
    "SIGMA = 2 # population SD\n",
    "n = 100      # sample size\n",
    "        \n",
    "Gaussian_process = RandomProcess(\n",
    "    prob_func = np.random.normal,\n",
    "    loc = MU,\n",
    "    scale = SIGMA\n",
    ")\n",
    "\n",
    "X = make_observations(n, Gaussian_process)"
   ]
  },
  {
   "cell_type": "markdown",
   "metadata": {},
   "source": [
    "## Assumptions"
   ]
  },
  {
   "cell_type": "code",
   "execution_count": 3,
   "metadata": {},
   "outputs": [],
   "source": [
    "# Assumption 1\n",
    "def p_sample(X):\n",
    "    return np.prod(X)\n",
    "\n",
    "# Assumption 2\n",
    "def pdf_gauss(X, mu, sigma):\n",
    "    exp_numer = (X - mu)**2\n",
    "    exp_denom = 2*(sigma**2)\n",
    "    exp_term = exp_numer/exp_denom\n",
    "    normalizer = sigma*np.sqrt(np.pi*2)\n",
    "    return np.exp(-exp_term)/normalizer"
   ]
  },
  {
   "cell_type": "markdown",
   "metadata": {},
   "source": [
    "## Approach 1: brute force parameter estimation\n",
    "\n",
    "We can try a brute force method and just iterate over different parameter values and find the maximum. However, this approach depends too much on luck."
   ]
  },
  {
   "cell_type": "code",
   "execution_count": 4,
   "metadata": {},
   "outputs": [
    {
     "name": "stdout",
     "output_type": "stream",
     "text": [
      "5.0 1.901\n"
     ]
    }
   ],
   "source": [
    "# Probability of our sample given the population params\n",
    "mus = np.arange(0,10,.1)\n",
    "sigmas = np.arange(0.001,3,.1)\n",
    "\n",
    "running_max = -1\n",
    "for mu in mus:\n",
    "    for sigma in sigmas:\n",
    "        prob_given_params = p_sample(pdf_gauss(X, mu, sigma))\n",
    "        if prob_given_params > running_max:\n",
    "            running_max = prob_given_params\n",
    "            best_mu = mu\n",
    "            best_sigma = sigma\n",
    "        \n",
    "print(best_mu, best_sigma)"
   ]
  },
  {
   "cell_type": "code",
   "execution_count": null,
   "metadata": {},
   "outputs": [],
   "source": []
  }
 ],
 "metadata": {
  "kernelspec": {
   "display_name": "Python 3",
   "language": "python",
   "name": "python3"
  },
  "language_info": {
   "codemirror_mode": {
    "name": "ipython",
    "version": 3
   },
   "file_extension": ".py",
   "mimetype": "text/x-python",
   "name": "python",
   "nbconvert_exporter": "python",
   "pygments_lexer": "ipython3",
   "version": "3.6.4"
  }
 },
 "nbformat": 4,
 "nbformat_minor": 2
}
