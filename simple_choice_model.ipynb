{
 "cells": [
  {
   "cell_type": "markdown",
   "metadata": {},
   "source": [
    "# Introduction\n",
    "This notebook will introduce an artificial agent that uses a simple decision-making routine in order to choose the next task to interact with. The agent starts in some initial state (some past history of interacting with all tasks) to make the initial decision. Upon choosing a task, the agent \"plays\" it, gets some feedback (hit or miss), updates its state accordingly and repeats. This closed cyclical process involves multiple components that can produce different behaviors over time.\n",
    "\n",
    "One interesting thing about the tasks that the agent chooses from, is that the probability of yielding a reward can change over time depending on the agent's engagement with the task. We can simulate this with any function that takes time (experience) for a given task as an argument and returns the probability of getting a reward. Below, I will use a sigmoid function of a linear function with 1 independent predictor: number of trials on task (so far). Basically:\n",
    "\n",
    "$$ P(\\text{hit} \\mid \\text{trial}) = \\sigma(b_0 + b_1 \\text{trial}) = \\frac{1}{1 + e^{-(b_0 + b_1 \\text{trial})}} $$\n",
    "\n",
    "where $b_0, b_1$ are free parameters and can differ between tasks. Parameter $b_1$ corresponds to how rapidly the sigmoid increases and $b_0$ corresponds how likely getting a hit is without prior experience with the task. Below you have an interface to either fit these parameters to our data (or aspects of data), or tweak them as you like. Select the next code cell and run it (try `Shift + Enter`, or the Run button from the menu on the top left)."
   ]
  },
  {
   "cell_type": "markdown",
   "metadata": {},
   "source": [
    "# Generating hits"
   ]
  },
  {
   "cell_type": "code",
   "execution_count": null,
   "metadata": {
    "ExecuteTime": {
     "end_time": "2019-07-02T15:52:33.967995Z",
     "start_time": "2019-07-02T15:52:30.103692Z"
    },
    "scrolled": false
   },
   "outputs": [],
   "source": [
    "%matplotlib notebook\n",
    "from supplementary.simple_choice_model import hits_gen as hits\n",
    "hits_generator = hits.HitsGeneratorGUI(bandits=['1D','I1D','2D','R'])"
   ]
  },
  {
   "cell_type": "markdown",
   "metadata": {},
   "source": [
    "# Simulation\n",
    "With a fixed \"hits generator\" we can simulate a multi-task free play. The agent uses a linear utility function to evaluate each task:\n",
    "\n",
    "$$ u(\\text{task}_i) = \\alpha \\text{LP}_i + \\beta \\text{PC}_i + \\gamma I_i $$\n",
    "\n",
    "where $\\alpha, \\beta, \\gamma$ are free parameters, $\\text{LP}$ is the learning progress evaluated for task $i$, $\\text{PC}$ is its expected reward (modeled as Percent Correct), and $I$ is the \"inertia\" variable that equals 1 if task $i$ was played on the previous trial and 0 otheriwse. As long as the agent has these 3 quantities for any task, it can meaningfully assign utility to it. The choice is made probabilistically, by first normalizing the utilities across all tasks to sum to 1, and then sampling one based on the probabilities.\n",
    "\n",
    "Below, you can simulate a free play by running the following code cell. To start a simulation, we need initialize the starting state. We do it by randomly sampling a subject from our data (or from a subset of data). Click \"Update initial state\" button to sample a new subject. You will see their training trials appear on the top left (black = 1 / hit, white = 0 / miss). This initial state will be used to compute the utilities and start the free-play closed loop. To simulate 250 trials of free play, click the \"Simulate\" button. You will see overall task selection appear in the top right, as well as the agent's actual choices and outcomes across time. \n",
    "\n",
    "You can interactively change the utility function's free parameters to see how the behavior changes. You can also change the parameters of the `hits_generator`, and/or change the initial state. Be sure to update the initial state by clicking the button and click on 'Simulate' button to see the latest changes."
   ]
  },
  {
   "cell_type": "code",
   "execution_count": null,
   "metadata": {
    "ExecuteTime": {
     "end_time": "2019-07-02T15:52:36.610413Z",
     "start_time": "2019-07-02T15:52:36.361290Z"
    },
    "run_control": {
     "marked": false
    },
    "scrolled": false,
    "tags": [
     "hide_input"
    ]
   },
   "outputs": [],
   "source": [
    "from supplementary.simple_choice_model import sim_tools\n",
    "simulator = sim_tools.Simulator(nb_trials=250, hits_generator=hits_generator)"
   ]
  }
 ],
 "metadata": {
  "hide_input": false,
  "kernelspec": {
   "display_name": "Python 3",
   "language": "python",
   "name": "python3"
  },
  "language_info": {
   "codemirror_mode": {
    "name": "ipython",
    "version": 3
   },
   "file_extension": ".py",
   "mimetype": "text/x-python",
   "name": "python",
   "nbconvert_exporter": "python",
   "pygments_lexer": "ipython3",
   "version": "3.6.4"
  },
  "toc": {
   "base_numbering": "0",
   "nav_menu": {},
   "number_sections": true,
   "sideBar": true,
   "skip_h1_title": false,
   "title_cell": "Table of Contents",
   "title_sidebar": "Contents",
   "toc_cell": false,
   "toc_position": {
    "height": "calc(100% - 180px)",
    "left": "10px",
    "top": "150px",
    "width": "332.438px"
   },
   "toc_section_display": true,
   "toc_window_display": true
  },
  "varInspector": {
   "cols": {
    "lenName": 16,
    "lenType": 16,
    "lenVar": 40
   },
   "kernels_config": {
    "python": {
     "delete_cmd_postfix": "",
     "delete_cmd_prefix": "del ",
     "library": "var_list.py",
     "varRefreshCmd": "print(var_dic_list())"
    },
    "r": {
     "delete_cmd_postfix": ") ",
     "delete_cmd_prefix": "rm(",
     "library": "var_list.r",
     "varRefreshCmd": "cat(var_dic_list()) "
    }
   },
   "oldHeight": 590.219,
   "position": {
    "height": "612.219px",
    "left": "1539.33px",
    "right": "20px",
    "top": "114px",
    "width": "363.766px"
   },
   "types_to_exclude": [
    "module",
    "function",
    "builtin_function_or_method",
    "instance",
    "_Feature"
   ],
   "varInspector_section_display": "block",
   "window_display": false
  }
 },
 "nbformat": 4,
 "nbformat_minor": 2
}
